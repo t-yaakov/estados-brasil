{
 "cells": [
  {
   "cell_type": "code",
   "execution_count": 1,
   "metadata": {},
   "outputs": [],
   "source": [
    "import csv\n",
    "import sqlite3\n",
    "from pathlib import Path"
   ]
  },
  {
   "cell_type": "markdown",
   "metadata": {},
   "source": [
    "<h3>Converte CSV \"csv/estados-siglas-capitais-regioes.csv\" para SQL \"sqlite/estados-siglas-capitais-regioes.db\"</h3>"
   ]
  },
  {
   "cell_type": "code",
   "execution_count": 2,
   "metadata": {},
   "outputs": [
    {
     "data": {
      "text/plain": [
       "<sqlite3.Cursor at 0x255a83d9dc0>"
      ]
     },
     "execution_count": 2,
     "metadata": {},
     "output_type": "execute_result"
    }
   ],
   "source": [
    "# Criar ou conectar ao banco de dados SQLite\n",
    "db_file = Path('sqlite/estados-siglas-capitais-regioes.db')\n",
    "conn = sqlite3.connect(db_file)\n",
    "cursor = conn.cursor()\n",
    "\n",
    "# Criar tabela\n",
    "cursor.execute('''\n",
    "    CREATE TABLE IF NOT EXISTS estados (\n",
    "        id INTEGER PRIMARY KEY,\n",
    "        estado TEXT NOT NULL,\n",
    "        sigla TEXT NOT NULL,\n",
    "        capital TEXT NOT NULL,\n",
    "        regiao TEXT NOT NULL\n",
    "    )\n",
    "''')\n",
    "\n",
    "# Limpar dados existentes\n",
    "cursor.execute('DELETE FROM estados')"
   ]
  },
  {
   "cell_type": "code",
   "execution_count": 3,
   "metadata": {},
   "outputs": [],
   "source": [
    "# Ler o arquivo CSV e inserir os dados no sqlite\n",
    "with open('csv/estados-siglas-capitais-regioes.csv', 'r', encoding='utf-8') as file:\n",
    "    csv_reader = csv.DictReader(file)\n",
    "    for row in csv_reader:\n",
    "        cursor.execute('''\n",
    "            INSERT INTO estados (id, estado, sigla, capital, regiao)\n",
    "            VALUES (?, ?, ?, ?, ?)\n",
    "        ''', (\n",
    "            int(row['id']),\n",
    "            row['estado'],\n",
    "            row['sigla'],\n",
    "            row['capital'],\n",
    "            row['região']\n",
    "        ))\n",
    "\n",
    "# Commit das alterações e fechar conexão\n",
    "conn.commit()"
   ]
  },
  {
   "cell_type": "markdown",
   "metadata": {},
   "source": [
    "<h3>Converte CSV \"csv/estados-siglas-capitais.csv\" para SQL \"sqlite/estados-siglas-capitais.db\"</h3>"
   ]
  },
  {
   "cell_type": "code",
   "execution_count": 4,
   "metadata": {},
   "outputs": [
    {
     "data": {
      "text/plain": [
       "<sqlite3.Cursor at 0x255a83db740>"
      ]
     },
     "execution_count": 4,
     "metadata": {},
     "output_type": "execute_result"
    }
   ],
   "source": [
    "# Criar ou conectar ao banco de dados SQLite\n",
    "db_file = Path('sqlite/estados-siglas-capitais.db')\n",
    "conn = sqlite3.connect(db_file)\n",
    "cursor = conn.cursor()\n",
    "\n",
    "# Criar tabela\n",
    "cursor.execute('''\n",
    "    CREATE TABLE IF NOT EXISTS estados (\n",
    "        id INTEGER PRIMARY KEY,\n",
    "        estado TEXT NOT NULL,\n",
    "        sigla TEXT NOT NULL,\n",
    "        capital TEXT NOT NULL\n",
    "    )\n",
    "''')\n",
    "\n",
    "# Limpar dados existentes\n",
    "cursor.execute('DELETE FROM estados')"
   ]
  },
  {
   "cell_type": "code",
   "execution_count": 5,
   "metadata": {},
   "outputs": [],
   "source": [
    "# Ler o arquivo CSV e inserir os dados no sqlite\n",
    "with open('csv/estados-siglas-capitais.csv', 'r', encoding='utf-8') as file:\n",
    "    csv_reader = csv.DictReader(file)\n",
    "    for row in csv_reader:\n",
    "        cursor.execute('''\n",
    "            INSERT INTO estados (id, estado, sigla, capital)\n",
    "            VALUES (?, ?, ?, ?)\n",
    "        ''', (\n",
    "            int(row['id']),\n",
    "            row['estado'],\n",
    "            row['sigla'],\n",
    "            row['capital']\n",
    "        ))\n",
    "\n",
    "# Commit das alterações e fechar conexão\n",
    "conn.commit()"
   ]
  },
  {
   "cell_type": "markdown",
   "metadata": {},
   "source": [
    "<h3>Converte CSV \"csv/estados-siglas.csv\" para SQL \"sqlite/estados-siglas.db\"</h3>"
   ]
  },
  {
   "cell_type": "code",
   "execution_count": 6,
   "metadata": {},
   "outputs": [
    {
     "data": {
      "text/plain": [
       "<sqlite3.Cursor at 0x255a83d9e40>"
      ]
     },
     "execution_count": 6,
     "metadata": {},
     "output_type": "execute_result"
    }
   ],
   "source": [
    "# Criar ou conectar ao banco de dados SQLite\n",
    "db_file = Path('sqlite/estados-siglas.db')\n",
    "conn = sqlite3.connect(db_file)\n",
    "cursor = conn.cursor()\n",
    "\n",
    "# Criar tabela\n",
    "cursor.execute('''\n",
    "    CREATE TABLE IF NOT EXISTS estados (\n",
    "        id INTEGER PRIMARY KEY,\n",
    "        estado TEXT NOT NULL,\n",
    "        sigla TEXT NOT NULL\n",
    "    )\n",
    "''')\n",
    "\n",
    "# Limpar dados existentes\n",
    "cursor.execute('DELETE FROM estados')"
   ]
  },
  {
   "cell_type": "code",
   "execution_count": null,
   "metadata": {},
   "outputs": [],
   "source": [
    "# Ler o arquivo CSV e inserir os dados no sqlite\n",
    "with open('csv/estados-siglas.csv', 'r', encoding='utf-8') as file:\n",
    "    csv_reader = csv.DictReader(file)\n",
    "    for row in csv_reader:\n",
    "        cursor.execute('''\n",
    "            INSERT INTO estados (id, estado, sigla)\n",
    "            VALUES (?, ?, ?)\n",
    "        ''', (\n",
    "            int(row['id']),\n",
    "            row['estado'],\n",
    "            row['sigla']\n",
    "        ))\n",
    "\n",
    "# Commit das alterações e fechar conexão\n",
    "conn.commit()"
   ]
  },
  {
   "cell_type": "markdown",
   "metadata": {},
   "source": [
    "<h3>Converte CSV \"csv/estados.csv\" para SQL \"sqlite/estados.db\"</h3>"
   ]
  },
  {
   "cell_type": "code",
   "execution_count": 8,
   "metadata": {},
   "outputs": [
    {
     "data": {
      "text/plain": [
       "<sqlite3.Cursor at 0x255a8410d40>"
      ]
     },
     "execution_count": 8,
     "metadata": {},
     "output_type": "execute_result"
    }
   ],
   "source": [
    "# Criar ou conectar ao banco de dados SQLite\n",
    "db_file = Path('sqlite/estados.db')\n",
    "conn = sqlite3.connect(db_file)\n",
    "cursor = conn.cursor()\n",
    "\n",
    "# Criar tabela\n",
    "cursor.execute('''\n",
    "    CREATE TABLE IF NOT EXISTS estados (\n",
    "        id INTEGER PRIMARY KEY,\n",
    "        estado TEXT NOT NULL\n",
    "    )\n",
    "''')\n",
    "\n",
    "# Limpar dados existentes\n",
    "cursor.execute('DELETE FROM estados')"
   ]
  },
  {
   "cell_type": "code",
   "execution_count": 9,
   "metadata": {},
   "outputs": [],
   "source": [
    "# Ler o arquivo CSV e inserir os dados no sqlite\n",
    "with open('csv/estados.csv', 'r', encoding='utf-8') as file:\n",
    "    csv_reader = csv.DictReader(file)\n",
    "    for row in csv_reader:\n",
    "        cursor.execute('''\n",
    "            INSERT INTO estados (id, estado)\n",
    "            VALUES (?, ?)\n",
    "        ''', (\n",
    "            int(row['id']),\n",
    "            row['estado']\n",
    "        ))\n",
    "\n",
    "# Commit das alterações e fechar conexão\n",
    "conn.commit()"
   ]
  }
 ],
 "metadata": {
  "kernelspec": {
   "display_name": "Python 3",
   "language": "python",
   "name": "python3"
  },
  "language_info": {
   "codemirror_mode": {
    "name": "ipython",
    "version": 3
   },
   "file_extension": ".py",
   "mimetype": "text/x-python",
   "name": "python",
   "nbconvert_exporter": "python",
   "pygments_lexer": "ipython3",
   "version": "3.12.3"
  }
 },
 "nbformat": 4,
 "nbformat_minor": 2
}
