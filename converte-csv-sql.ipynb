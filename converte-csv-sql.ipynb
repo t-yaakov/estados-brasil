{
 "cells": [
  {
   "cell_type": "code",
   "execution_count": 39,
   "metadata": {},
   "outputs": [],
   "source": [
    "import csv"
   ]
  },
  {
   "cell_type": "markdown",
   "metadata": {},
   "source": [
    "<h3>Converte CSV \"csv/estados-siglas-capitais-regioes.csv\" para SQL \"sql/estados-siglas-capitais-regioes.csv\"</h3>"
   ]
  },
  {
   "cell_type": "code",
   "execution_count": 40,
   "metadata": {},
   "outputs": [],
   "source": [
    "# Início do script SQL com a criação da tabela\n",
    "sql_script = \"\"\"\n",
    "-- Criação da tabela\n",
    "CREATE TABLE estados (\n",
    "    id INT PRIMARY KEY,\n",
    "    estado VARCHAR(50) NOT NULL,\n",
    "    sigla CHAR(2) NOT NULL,\n",
    "    capital VARCHAR(50) NOT NULL,\n",
    "    regiao VARCHAR(20) NOT NULL\n",
    ");\n",
    "\n",
    "-- Inserção dos dados\n",
    "INSERT INTO estados (id, estado, sigla, capital, regiao) VALUES\n",
    "\"\"\""
   ]
  },
  {
   "cell_type": "code",
   "execution_count": 41,
   "metadata": {},
   "outputs": [],
   "source": [
    "# Ler o arquivo CSV e gerar os comandos INSERT\n",
    "inserts = []\n",
    "with open('csv/estados-siglas-capitais-regioes.csv', 'r', encoding='utf-8') as file:\n",
    "    csv_reader = csv.DictReader(file)\n",
    "    for row in csv_reader:\n",
    "        insert = f\"( {row['id']}, '{row['estado']}', '{row['sigla']}', '{row['capital']}', '{row['região']}')\"\n",
    "        inserts.append(insert)\n",
    "\n",
    "# Juntar todos os INSERTs com vírgulas e ponto e vírgula no final\n",
    "sql_script += ',\\n'.join(inserts) + ';'"
   ]
  },
  {
   "cell_type": "code",
   "execution_count": 42,
   "metadata": {},
   "outputs": [],
   "source": [
    "# Salvar o script SQL em um arquivo\n",
    "with open('sql/estados-siglas-capitais-regioes.sql', 'w', encoding='utf-8') as file:\n",
    "    file.write(sql_script)"
   ]
  },
  {
   "cell_type": "markdown",
   "metadata": {},
   "source": [
    "<h3>Converte CSV \"csv/estados-siglas-capitais.csv\" para SQL \"sql/estados-siglas-capitais.csv\"</h3>"
   ]
  },
  {
   "cell_type": "code",
   "execution_count": 43,
   "metadata": {},
   "outputs": [],
   "source": [
    "# Início do script SQL com a criação da tabela\n",
    "sql_script = \"\"\"\n",
    "-- Criação da tabela\n",
    "CREATE TABLE estados (\n",
    "    id INT PRIMARY KEY,\n",
    "    estado VARCHAR(50) NOT NULL,\n",
    "    sigla CHAR(2) NOT NULL,\n",
    "    capital VARCHAR(50) NOT NULL\n",
    ");\n",
    "\n",
    "-- Inserção dos dados\n",
    "INSERT INTO estados (id, estado, sigla, capital, regiao) VALUES\n",
    "\"\"\""
   ]
  },
  {
   "cell_type": "code",
   "execution_count": 44,
   "metadata": {},
   "outputs": [],
   "source": [
    "# Ler o arquivo CSV e gerar os comandos INSERT\n",
    "inserts = []\n",
    "with open('csv/estados-siglas-capitais.csv', 'r', encoding='utf-8') as file:\n",
    "    csv_reader = csv.DictReader(file)\n",
    "    for row in csv_reader:\n",
    "        insert = f\"( {row['id']}, '{row['estado']}', '{row['sigla']}', '{row['capital']}')\"\n",
    "        inserts.append(insert)\n",
    "\n",
    "# Juntar todos os INSERTs com vírgulas e ponto e vírgula no final\n",
    "sql_script += ',\\n'.join(inserts) + ';'"
   ]
  },
  {
   "cell_type": "code",
   "execution_count": 45,
   "metadata": {},
   "outputs": [],
   "source": [
    "# Salvar o script SQL em um arquivo\n",
    "with open('sql/estados-siglas-capitais.sql', 'w', encoding='utf-8') as file:\n",
    "    file.write(sql_script)"
   ]
  },
  {
   "cell_type": "markdown",
   "metadata": {},
   "source": [
    "<h3>Converte CSV \"csv/estados-siglas.csv\" para SQL \"sql/estados-siglas.csv\"</h3>"
   ]
  },
  {
   "cell_type": "code",
   "execution_count": 46,
   "metadata": {},
   "outputs": [],
   "source": [
    "# Início do script SQL com a criação da tabela\n",
    "sql_script = \"\"\"\n",
    "-- Criação da tabela\n",
    "CREATE TABLE estados (\n",
    "    id INT PRIMARY KEY,\n",
    "    estado VARCHAR(50) NOT NULL,\n",
    "    sigla CHAR(2) NOT NULL\n",
    ");\n",
    "\n",
    "-- Inserção dos dados\n",
    "INSERT INTO estados (id, estado, sigla, capital, regiao) VALUES\n",
    "\"\"\""
   ]
  },
  {
   "cell_type": "code",
   "execution_count": 47,
   "metadata": {},
   "outputs": [],
   "source": [
    "# Ler o arquivo CSV e gerar os comandos INSERT\n",
    "inserts = []\n",
    "with open('csv/estados-siglas.csv', 'r', encoding='utf-8') as file:\n",
    "    csv_reader = csv.DictReader(file)\n",
    "    for row in csv_reader:\n",
    "        insert = f\"( {row['id']}, '{row['estado']}', '{row['sigla']}')\"\n",
    "        inserts.append(insert)\n",
    "\n",
    "# Juntar todos os INSERTs com vírgulas e ponto e vírgula no final\n",
    "sql_script += ',\\n'.join(inserts) + ';'"
   ]
  },
  {
   "cell_type": "code",
   "execution_count": 48,
   "metadata": {},
   "outputs": [],
   "source": [
    "# Salvar o script SQL em um arquivo\n",
    "with open('sql/estados-siglas.sql', 'w', encoding='utf-8') as file:\n",
    "    file.write(sql_script)"
   ]
  },
  {
   "cell_type": "markdown",
   "metadata": {},
   "source": [
    "<h3>Converte CSV \"csv/estados.csv\" para SQL \"sql/estados.csv\"</h3>"
   ]
  },
  {
   "cell_type": "code",
   "execution_count": 49,
   "metadata": {},
   "outputs": [],
   "source": [
    "# Início do script SQL com a criação da tabela\n",
    "sql_script = \"\"\"\n",
    "-- Criação da tabela\n",
    "CREATE TABLE estados (\n",
    "    id INT PRIMARY KEY,\n",
    "    estado VARCHAR(50) NOT NULL\n",
    ");\n",
    "\n",
    "-- Inserção dos dados\n",
    "INSERT INTO estados (id, estado, sigla, capital, regiao) VALUES\n",
    "\"\"\""
   ]
  },
  {
   "cell_type": "code",
   "execution_count": 50,
   "metadata": {},
   "outputs": [],
   "source": [
    "# Ler o arquivo CSV e gerar os comandos INSERT\n",
    "inserts = []\n",
    "with open('csv/estados.csv', 'r', encoding='utf-8') as file:\n",
    "    csv_reader = csv.DictReader(file)\n",
    "    for row in csv_reader:\n",
    "        insert = f\"( {row['id']}, '{row['estado']}')\"\n",
    "        inserts.append(insert)\n",
    "\n",
    "# Juntar todos os INSERTs com vírgulas e ponto e vírgula no final\n",
    "sql_script += ',\\n'.join(inserts) + ';'"
   ]
  },
  {
   "cell_type": "code",
   "execution_count": 51,
   "metadata": {},
   "outputs": [],
   "source": [
    "# Salvar o script SQL em um arquivo\n",
    "with open('sql/estados.sql', 'w', encoding='utf-8') as file:\n",
    "    file.write(sql_script)"
   ]
  }
 ],
 "metadata": {
  "kernelspec": {
   "display_name": "Python 3",
   "language": "python",
   "name": "python3"
  },
  "language_info": {
   "codemirror_mode": {
    "name": "ipython",
    "version": 3
   },
   "file_extension": ".py",
   "mimetype": "text/x-python",
   "name": "python",
   "nbconvert_exporter": "python",
   "pygments_lexer": "ipython3",
   "version": "3.12.3"
  }
 },
 "nbformat": 4,
 "nbformat_minor": 2
}
