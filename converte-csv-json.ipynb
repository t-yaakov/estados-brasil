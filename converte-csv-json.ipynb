{
 "cells": [
  {
   "cell_type": "code",
   "execution_count": 6,
   "metadata": {},
   "outputs": [],
   "source": [
    "import csv\n",
    "import json"
   ]
  },
  {
   "cell_type": "markdown",
   "metadata": {},
   "source": [
    "<h3>Converte CSV \"csv/estados-siglas-capitais-regioes.csv\" para JSON \"json/estados-siglas-capitais-regioes.json\"</h3>"
   ]
  },
  {
   "cell_type": "code",
   "execution_count": 7,
   "metadata": {},
   "outputs": [],
   "source": [
    "# Lista para armazenar os dados\n",
    "estados = []\n",
    "\n",
    "# Ler o arquivo CSV\n",
    "with open('csv/estados-siglas-capitais-regioes.csv', 'r', encoding='utf-8') as file:\n",
    "    csv_reader = csv.DictReader(file)\n",
    "    for row in csv_reader:\n",
    "        estados.append({\n",
    "            'id': int(row['id']),\n",
    "            'estado': row['estado'],\n",
    "            'sigla': row['sigla'],\n",
    "            'capital': row['capital'],\n",
    "            'região': row['região']\n",
    "        })\n",
    "\n",
    "# Criar o JSON\n",
    "json_data = {'estados': estados}\n",
    "\n",
    "# Salvar o arquivo JSON\n",
    "with open('json/estados-siglas-capitais-regioes.json', 'w', encoding='utf-8') as file:\n",
    "    json.dump(json_data, file, ensure_ascii=False, indent=2)"
   ]
  },
  {
   "cell_type": "markdown",
   "metadata": {},
   "source": [
    "<h3>Converte CSV \"csv/estados-siglas-capitais.csv\" para JSON \"json/estados-siglas-capitais.json\"</h3>"
   ]
  },
  {
   "cell_type": "code",
   "execution_count": 8,
   "metadata": {},
   "outputs": [],
   "source": [
    "# Lista para armazenar os dados\n",
    "estados = []\n",
    "\n",
    "# Ler o arquivo CSV\n",
    "with open('csv/estados-siglas-capitais.csv', 'r', encoding='utf-8') as file:\n",
    "    csv_reader = csv.DictReader(file)\n",
    "    for row in csv_reader:\n",
    "        estados.append({\n",
    "            'id': int(row['id']),\n",
    "            'estado': row['estado'],\n",
    "            'sigla': row['sigla'],\n",
    "            'capital': row['capital']\n",
    "        })\n",
    "\n",
    "# Criar o JSON\n",
    "json_data = {'estados': estados}\n",
    "\n",
    "# Salvar o arquivo JSON\n",
    "with open('json/estados-siglas-capitais.json', 'w', encoding='utf-8') as file:\n",
    "    json.dump(json_data, file, ensure_ascii=False, indent=2)"
   ]
  },
  {
   "cell_type": "markdown",
   "metadata": {},
   "source": [
    "<h3>Converte CSV \"csv/estados-siglas.csv\" para JSON \"json/estados-siglas.json\"</h3>"
   ]
  },
  {
   "cell_type": "code",
   "execution_count": 9,
   "metadata": {},
   "outputs": [],
   "source": [
    "# Lista para armazenar os dados\n",
    "estados = []\n",
    "\n",
    "# Ler o arquivo CSV\n",
    "with open('csv/estados-siglas.csv', 'r', encoding='utf-8') as file:\n",
    "    csv_reader = csv.DictReader(file)\n",
    "    for row in csv_reader:\n",
    "        estados.append({\n",
    "            'id': int(row['id']),\n",
    "            'estado': row['estado'],\n",
    "            'sigla': row['sigla']\n",
    "        })\n",
    "\n",
    "# Criar o JSON\n",
    "json_data = {'estados': estados}\n",
    "\n",
    "# Salvar o arquivo JSON\n",
    "with open('json/estados-siglas.json', 'w', encoding='utf-8') as file:\n",
    "    json.dump(json_data, file, ensure_ascii=False, indent=2)"
   ]
  },
  {
   "cell_type": "markdown",
   "metadata": {},
   "source": [
    "<h3>Converte CSV \"csv/estados.csv\" para JSON \"json/estados.json\"</h3>"
   ]
  },
  {
   "cell_type": "code",
   "execution_count": 10,
   "metadata": {},
   "outputs": [],
   "source": [
    "# Lista para armazenar os dados\n",
    "estados = []\n",
    "\n",
    "# Ler o arquivo CSV\n",
    "with open('csv/estados.csv', 'r', encoding='utf-8') as file:\n",
    "    csv_reader = csv.DictReader(file)\n",
    "    for row in csv_reader:\n",
    "        estados.append({\n",
    "            'id': int(row['id']),\n",
    "            'estado': row['estado']\n",
    "        })\n",
    "\n",
    "# Criar o JSON\n",
    "json_data = {'estados': estados}\n",
    "\n",
    "# Salvar o arquivo JSON\n",
    "with open('json/estados.json', 'w', encoding='utf-8') as file:\n",
    "    json.dump(json_data, file, ensure_ascii=False, indent=2)"
   ]
  }
 ],
 "metadata": {
  "kernelspec": {
   "display_name": "Python 3",
   "language": "python",
   "name": "python3"
  },
  "language_info": {
   "codemirror_mode": {
    "name": "ipython",
    "version": 3
   },
   "file_extension": ".py",
   "mimetype": "text/x-python",
   "name": "python",
   "nbconvert_exporter": "python",
   "pygments_lexer": "ipython3",
   "version": "3.12.3"
  }
 },
 "nbformat": 4,
 "nbformat_minor": 2
}
